{
 "cells": [
  {
   "cell_type": "markdown",
   "metadata": {},
   "source": [
    "# East-West University\n",
    "\n",
    "# CI280 Final Exam - 2020 Fall  (100 points)\n",
    "\n",
    "# Student Name: Joanna Luchowska\n",
    "\n",
    "# Student ID: 21507\n"
   ]
  },
  {
   "cell_type": "markdown",
   "metadata": {},
   "source": [
    "### Real Estate Data  Analysis"
   ]
  },
  {
   "cell_type": "code",
   "execution_count": 30,
   "metadata": {},
   "outputs": [],
   "source": [
    "%matplotlib inline\n",
    "import random\n",
    "import pandas as pd\n",
    "import matplotlib.pyplot as plt\n",
    "\n",
    "plt.rc('figure', figsize=(10, 8))"
   ]
  },
  {
   "cell_type": "code",
   "execution_count": 32,
   "metadata": {},
   "outputs": [],
   "source": [
    "# limiting the display rows\n",
    "pd.set_option('display.max_rows', 8)"
   ]
  },
  {
   "cell_type": "code",
   "execution_count": 2,
   "metadata": {},
   "outputs": [
    {
     "ename": "NameError",
     "evalue": "name 'pd' is not defined",
     "output_type": "error",
     "traceback": [
      "\u001b[0;31m---------------------------------------------------------------------------\u001b[0m",
      "\u001b[0;31mNameError\u001b[0m                                 Traceback (most recent call last)",
      "\u001b[0;32m<ipython-input-2-bc06ae6de7a9>\u001b[0m in \u001b[0;36m<module>\u001b[0;34m\u001b[0m\n\u001b[0;32m----> 1\u001b[0;31m \u001b[0mrealEstate\u001b[0m \u001b[0;34m=\u001b[0m \u001b[0mpd\u001b[0m\u001b[0;34m.\u001b[0m\u001b[0mread_csv\u001b[0m\u001b[0;34m(\u001b[0m\u001b[0;34m'data/RealEstate.csv'\u001b[0m\u001b[0;34m)\u001b[0m\u001b[0;34m\u001b[0m\u001b[0;34m\u001b[0m\u001b[0m\n\u001b[0m\u001b[1;32m      2\u001b[0m \u001b[0mprint\u001b[0m\u001b[0;34m(\u001b[0m\u001b[0mrealEstate\u001b[0m\u001b[0;34m.\u001b[0m\u001b[0mshape\u001b[0m\u001b[0;34m)\u001b[0m\u001b[0;34m\u001b[0m\u001b[0;34m\u001b[0m\u001b[0m\n\u001b[1;32m      3\u001b[0m \u001b[0mrealEstate\u001b[0m\u001b[0;34m\u001b[0m\u001b[0;34m\u001b[0m\u001b[0m\n",
      "\u001b[0;31mNameError\u001b[0m: name 'pd' is not defined"
     ]
    }
   ],
   "source": [
    "realEstate = pd.read_csv('data/RealEstate.csv')\n",
    "print(realEstate.shape)\n",
    "realEstate"
   ]
  },
  {
   "cell_type": "markdown",
   "metadata": {},
   "source": [
    "# Part A: Basic Dataframe ( 50 pts)"
   ]
  },
  {
   "cell_type": "code",
   "execution_count": 12,
   "metadata": {},
   "outputs": [
    {
     "name": "stdout",
     "output_type": "stream",
     "text": [
      "Joanna Luchowska, ID: 21507,  6975\n",
      "------------------------------\n",
      "\n"
     ]
    },
    {
     "ename": "NameError",
     "evalue": "name 'realEstate' is not defined",
     "output_type": "error",
     "traceback": [
      "\u001b[0;31m---------------------------------------------------------------------------\u001b[0m",
      "\u001b[0;31mNameError\u001b[0m                                 Traceback (most recent call last)",
      "\u001b[0;32m<ipython-input-12-9a43e86956bb>\u001b[0m in \u001b[0;36m<module>\u001b[0;34m\u001b[0m\n\u001b[1;32m     10\u001b[0m \u001b[0;34m\u001b[0m\u001b[0m\n\u001b[1;32m     11\u001b[0m \u001b[0;34m\u001b[0m\u001b[0m\n\u001b[0;32m---> 12\u001b[0;31m \u001b[0mnames\u001b[0m \u001b[0;34m=\u001b[0m \u001b[0mrealEstate\u001b[0m\u001b[0;34m.\u001b[0m\u001b[0mcolumns\u001b[0m\u001b[0;34m\u001b[0m\u001b[0;34m\u001b[0m\u001b[0m\n\u001b[0m\u001b[1;32m     13\u001b[0m \u001b[0mnames\u001b[0m\u001b[0;34m\u001b[0m\u001b[0;34m\u001b[0m\u001b[0m\n\u001b[1;32m     14\u001b[0m \u001b[0;34m\u001b[0m\u001b[0m\n",
      "\u001b[0;31mNameError\u001b[0m: name 'realEstate' is not defined"
     ]
    }
   ],
   "source": [
    "import random\n",
    "number = random.randint(0,10000)\n",
    "\n",
    "print(\"Joanna Luchowska, ID: 21507, \", number)\n",
    "print('------------------------------\\n')\n",
    "\n",
    "# Problem 1 ( 3 = 3 = 6 pts)\n",
    "\n",
    "# Display datafrome realEstate column names\n",
    "\n",
    "\n",
    "names = realEstate.columns\n",
    "names\n",
    "\n",
    "print(\"Column names:\")\n",
    "print()\n",
    "for name in names:\n",
    "    print(name)\n"
   ]
  },
  {
   "cell_type": "code",
   "execution_count": 36,
   "metadata": {},
   "outputs": [
    {
     "name": "stdout",
     "output_type": "stream",
     "text": [
      "You name , id:  7958\n",
      "------------------------------\n",
      "\n"
     ]
    },
    {
     "data": {
      "text/html": [
       "<div>\n",
       "<style scoped>\n",
       "    .dataframe tbody tr th:only-of-type {\n",
       "        vertical-align: middle;\n",
       "    }\n",
       "\n",
       "    .dataframe tbody tr th {\n",
       "        vertical-align: top;\n",
       "    }\n",
       "\n",
       "    .dataframe thead th {\n",
       "        text-align: right;\n",
       "    }\n",
       "</style>\n",
       "<table border=\"1\" class=\"dataframe\">\n",
       "  <thead>\n",
       "    <tr style=\"text-align: right;\">\n",
       "      <th></th>\n",
       "      <th>Trans_No</th>\n",
       "      <th>City</th>\n",
       "      <th>Asking_Price</th>\n",
       "    </tr>\n",
       "  </thead>\n",
       "  <tbody>\n",
       "    <tr>\n",
       "      <th>0</th>\n",
       "      <td>1</td>\n",
       "      <td>Cedar Hills</td>\n",
       "      <td>725000</td>\n",
       "    </tr>\n",
       "    <tr>\n",
       "      <th>1</th>\n",
       "      <td>2</td>\n",
       "      <td>American Fork</td>\n",
       "      <td>350000</td>\n",
       "    </tr>\n",
       "    <tr>\n",
       "      <th>2</th>\n",
       "      <td>3</td>\n",
       "      <td>American Fork</td>\n",
       "      <td>418000</td>\n",
       "    </tr>\n",
       "    <tr>\n",
       "      <th>3</th>\n",
       "      <td>4</td>\n",
       "      <td>Lehi</td>\n",
       "      <td>215800</td>\n",
       "    </tr>\n",
       "    <tr>\n",
       "      <th>...</th>\n",
       "      <td>...</td>\n",
       "      <td>...</td>\n",
       "      <td>...</td>\n",
       "    </tr>\n",
       "    <tr>\n",
       "      <th>77</th>\n",
       "      <td>78</td>\n",
       "      <td>American Fork</td>\n",
       "      <td>400000</td>\n",
       "    </tr>\n",
       "    <tr>\n",
       "      <th>78</th>\n",
       "      <td>79</td>\n",
       "      <td>Eagle Mountain</td>\n",
       "      <td>339999</td>\n",
       "    </tr>\n",
       "    <tr>\n",
       "      <th>79</th>\n",
       "      <td>80</td>\n",
       "      <td>American Fork</td>\n",
       "      <td>380500</td>\n",
       "    </tr>\n",
       "    <tr>\n",
       "      <th>80</th>\n",
       "      <td>81</td>\n",
       "      <td>Cedar Hills</td>\n",
       "      <td>245900</td>\n",
       "    </tr>\n",
       "  </tbody>\n",
       "</table>\n",
       "<p>81 rows × 3 columns</p>\n",
       "</div>"
      ],
      "text/plain": [
       "    Trans_No            City  Asking_Price\n",
       "0          1     Cedar Hills        725000\n",
       "1          2   American Fork        350000\n",
       "2          3   American Fork        418000\n",
       "3          4            Lehi        215800\n",
       "..       ...             ...           ...\n",
       "77        78   American Fork        400000\n",
       "78        79  Eagle Mountain        339999\n",
       "79        80   American Fork        380500\n",
       "80        81     Cedar Hills        245900\n",
       "\n",
       "[81 rows x 3 columns]"
      ]
     },
     "execution_count": 36,
     "metadata": {},
     "output_type": "execute_result"
    }
   ],
   "source": [
    "number = random.randint(0,10000)\n",
    "print(\"Joanna Luchowska, ID: 21507, \", number)\n",
    "print('------------------------------\\n')\n",
    "\n",
    "\n",
    "# Problem 2. (3 + 3 = 6 points)\n",
    "\n",
    "# Diplay DataFrame realEstate's three columns:  rans_No , City, Asking_Price\n",
    "\n",
    "\n",
    "\n"
   ]
  },
  {
   "cell_type": "code",
   "execution_count": 37,
   "metadata": {},
   "outputs": [
    {
     "name": "stdout",
     "output_type": "stream",
     "text": [
      "You name , id:  6385\n",
      "------------------------------\n",
      "\n"
     ]
    },
    {
     "data": {
      "text/html": [
       "<div>\n",
       "<style scoped>\n",
       "    .dataframe tbody tr th:only-of-type {\n",
       "        vertical-align: middle;\n",
       "    }\n",
       "\n",
       "    .dataframe tbody tr th {\n",
       "        vertical-align: top;\n",
       "    }\n",
       "\n",
       "    .dataframe thead th {\n",
       "        text-align: right;\n",
       "    }\n",
       "</style>\n",
       "<table border=\"1\" class=\"dataframe\">\n",
       "  <thead>\n",
       "    <tr style=\"text-align: right;\">\n",
       "      <th></th>\n",
       "      <th>Trans_No</th>\n",
       "      <th>Address</th>\n",
       "      <th>City</th>\n",
       "      <th>Selling_Agent</th>\n",
       "      <th>Asking_Price</th>\n",
       "      <th>Selling_Price</th>\n",
       "      <th>Listing_Date</th>\n",
       "      <th>Sale_Date</th>\n",
       "    </tr>\n",
       "  </thead>\n",
       "  <tbody>\n",
       "    <tr>\n",
       "      <th>0</th>\n",
       "      <td>1</td>\n",
       "      <td>8687 Kenwood Road</td>\n",
       "      <td>Cedar Hills</td>\n",
       "      <td>Hernandez</td>\n",
       "      <td>725000</td>\n",
       "      <td>645250</td>\n",
       "      <td>4/1/2018</td>\n",
       "      <td>6/16/2018</td>\n",
       "    </tr>\n",
       "    <tr>\n",
       "      <th>17</th>\n",
       "      <td>18</td>\n",
       "      <td>9876 South Sunset Avenue</td>\n",
       "      <td>Eagle Mountain</td>\n",
       "      <td>Hernandez</td>\n",
       "      <td>300000</td>\n",
       "      <td>300000</td>\n",
       "      <td>4/18/2018</td>\n",
       "      <td>4/30/2018</td>\n",
       "    </tr>\n",
       "    <tr>\n",
       "      <th>21</th>\n",
       "      <td>22</td>\n",
       "      <td>9000 South Sunset Avenue</td>\n",
       "      <td>Eagle Mountain</td>\n",
       "      <td>Lugo</td>\n",
       "      <td>325000</td>\n",
       "      <td>320000</td>\n",
       "      <td>4/28/2018</td>\n",
       "      <td>5/28/2018</td>\n",
       "    </tr>\n",
       "    <tr>\n",
       "      <th>22</th>\n",
       "      <td>23</td>\n",
       "      <td>8432 South Sunset Avenue</td>\n",
       "      <td>Eagle Mountain</td>\n",
       "      <td>Minkus</td>\n",
       "      <td>285750</td>\n",
       "      <td>300000</td>\n",
       "      <td>4/28/2018</td>\n",
       "      <td>6/3/2018</td>\n",
       "    </tr>\n",
       "    <tr>\n",
       "      <th>...</th>\n",
       "      <td>...</td>\n",
       "      <td>...</td>\n",
       "      <td>...</td>\n",
       "      <td>...</td>\n",
       "      <td>...</td>\n",
       "      <td>...</td>\n",
       "      <td>...</td>\n",
       "      <td>...</td>\n",
       "    </tr>\n",
       "    <tr>\n",
       "      <th>73</th>\n",
       "      <td>74</td>\n",
       "      <td>425 East Oak</td>\n",
       "      <td>Eagle Mountain</td>\n",
       "      <td>Bethune</td>\n",
       "      <td>275900</td>\n",
       "      <td>250000</td>\n",
       "      <td>6/24/2018</td>\n",
       "      <td>8/15/2018</td>\n",
       "    </tr>\n",
       "    <tr>\n",
       "      <th>76</th>\n",
       "      <td>77</td>\n",
       "      <td>516 East Oak</td>\n",
       "      <td>Eagle Mountain</td>\n",
       "      <td>Pijuan</td>\n",
       "      <td>299999</td>\n",
       "      <td>280000</td>\n",
       "      <td>6/29/2018</td>\n",
       "      <td>9/30/2018</td>\n",
       "    </tr>\n",
       "    <tr>\n",
       "      <th>78</th>\n",
       "      <td>79</td>\n",
       "      <td>600 Ivy Lane</td>\n",
       "      <td>Eagle Mountain</td>\n",
       "      <td>Pijuan</td>\n",
       "      <td>339999</td>\n",
       "      <td>310000</td>\n",
       "      <td>6/30/2018</td>\n",
       "      <td>10/1/2018</td>\n",
       "    </tr>\n",
       "    <tr>\n",
       "      <th>80</th>\n",
       "      <td>81</td>\n",
       "      <td>1600 Reeves Street</td>\n",
       "      <td>Cedar Hills</td>\n",
       "      <td>Reuter</td>\n",
       "      <td>245900</td>\n",
       "      <td>233605</td>\n",
       "      <td>6/30/2018</td>\n",
       "      <td>8/16/2018</td>\n",
       "    </tr>\n",
       "  </tbody>\n",
       "</table>\n",
       "<p>36 rows × 8 columns</p>\n",
       "</div>"
      ],
      "text/plain": [
       "    Trans_No                   Address            City Selling_Agent  \\\n",
       "0          1         8687 Kenwood Road     Cedar Hills     Hernandez   \n",
       "17        18  9876 South Sunset Avenue  Eagle Mountain     Hernandez   \n",
       "21        22  9000 South Sunset Avenue  Eagle Mountain          Lugo   \n",
       "22        23  8432 South Sunset Avenue  Eagle Mountain        Minkus   \n",
       "..       ...                       ...             ...           ...   \n",
       "73        74              425 East Oak  Eagle Mountain       Bethune   \n",
       "76        77              516 East Oak  Eagle Mountain        Pijuan   \n",
       "78        79              600 Ivy Lane  Eagle Mountain        Pijuan   \n",
       "80        81        1600 Reeves Street     Cedar Hills        Reuter   \n",
       "\n",
       "    Asking_Price  Selling_Price Listing_Date  Sale_Date  \n",
       "0         725000         645250     4/1/2018  6/16/2018  \n",
       "17        300000         300000    4/18/2018  4/30/2018  \n",
       "21        325000         320000    4/28/2018  5/28/2018  \n",
       "22        285750         300000    4/28/2018   6/3/2018  \n",
       "..           ...            ...          ...        ...  \n",
       "73        275900         250000    6/24/2018  8/15/2018  \n",
       "76        299999         280000    6/29/2018  9/30/2018  \n",
       "78        339999         310000    6/30/2018  10/1/2018  \n",
       "80        245900         233605    6/30/2018  8/16/2018  \n",
       "\n",
       "[36 rows x 8 columns]"
      ]
     },
     "execution_count": 37,
     "metadata": {},
     "output_type": "execute_result"
    }
   ],
   "source": [
    "number = random.randint(0,10000)\n",
    "print(\"Joanna Luchowska, ID: 21507, \", number)\n",
    "print('------------------------------\\n')\n",
    "\n",
    "\n",
    "# Problem 3. ( 8 points)\n",
    "# Show all realestates in the city Cedar Hills or Eagle Mountain\n",
    "\n",
    "realEstate[realEstate['City']=='Cedar Hills']\n",
    "realEstate[realEstate['City']=='Eagle Mountain']\n"
   ]
  },
  {
   "cell_type": "code",
   "execution_count": 13,
   "metadata": {},
   "outputs": [
    {
     "ename": "SyntaxError",
     "evalue": "closing parenthesis ']' does not match opening parenthesis '(' (<ipython-input-13-9107792399e2>, line 11)",
     "output_type": "error",
     "traceback": [
      "\u001b[0;36m  File \u001b[0;32m\"<ipython-input-13-9107792399e2>\"\u001b[0;36m, line \u001b[0;32m11\u001b[0m\n\u001b[0;31m    realEstate[(realEstate['Selling_Agent']=='Carey'& (realEstate['Asking_Price'] > 300000)]\u001b[0m\n\u001b[0m                                                                                           ^\u001b[0m\n\u001b[0;31mSyntaxError\u001b[0m\u001b[0;31m:\u001b[0m closing parenthesis ']' does not match opening parenthesis '('\n"
     ]
    }
   ],
   "source": [
    "number = random.randint(0,10000)\n",
    "print(\"Joanna Luchowska, ID: 21507, \", number)\n",
    "print('------------------------------\\n')\n",
    "\n",
    "\n",
    "\n",
    "# Problem 4. (8 points)\n",
    "# List all realestates sold by agent Carey and Asking_Price is over $300,000\n",
    "\n",
    "\n",
    "realEstate[(realEstate['Selling_Agent']=='Carey'& (realEstate['Asking_Price'] > 300000)]"
   ]
  },
  {
   "cell_type": "code",
   "execution_count": 40,
   "metadata": {},
   "outputs": [
    {
     "name": "stdout",
     "output_type": "stream",
     "text": [
      "You name , id:  3999\n",
      "------------------------------\n",
      "\n",
      "\n",
      "City Name\n",
      "['Cedar Hills' 'American Fork' 'Lehi' 'Alpine' 'Eagle Mountain']\n",
      "\n",
      "Display each city in a line \n",
      " -----------------------------\n",
      "Cedar Hills\n",
      "American Fork\n",
      "Lehi\n",
      "Alpine\n",
      "Eagle Mountain\n"
     ]
    }
   ],
   "source": [
    "number = random.randint(0,10000)\n",
    "print(\"Joanna Luchowska, ID: 21507, \", number)\n",
    "print('------------------------------\\n')\n",
    "\n",
    "\n",
    "\n",
    "# Problem 5. ( 4+4 =8 points)\n",
    "      \n",
    "# Display all Cities and display one city in one line   \n",
    "\n",
    "print('City: ')\n",
    "\n",
    "res = realEstate['City'].unique()\n",
    "print(res)\n",
    "print()\n",
    "\n",
    "print('City names for each line one at the time:')\n",
    "print('---------------------------')\n",
    "for name in res:\n",
    "    print(name)\n",
    "    "
   ]
  },
  {
   "cell_type": "code",
   "execution_count": 11,
   "metadata": {},
   "outputs": [
    {
     "name": "stdout",
     "output_type": "stream",
     "text": [
      "You name , id:  3435\n",
      "------------------------------\n",
      "\n",
      "\n",
      "The total number of realestate: 81\n",
      "\n",
      "The highest asking price: $ 1500120\n",
      "\n",
      "Average Selling Price: $ 354040.9\n",
      "\n",
      "Average Asking Price:  $ 390110.5\n",
      "\n",
      "The Percentage of Average Selling price to Average Asking price: 90.75%\n"
     ]
    }
   ],
   "source": [
    "df = realEstate\n",
    "number = random.randint(0,10000)\n",
    "print(\"Joanna Luchowska, ID: 21507, \", number)\n",
    "print('------------------------------\\n')\n",
    "\n",
    "\n",
    "\n",
    "# Problem 6. (14 points)\n",
    "\n",
    "# A) Show the total number of realestate listed in the dataset\n",
    "total = realEstate ['Trans_No'].sum()\n",
    "\n",
    "# C) Display the highest asking price of realestate  \n",
    "highest = realEstate ['Asking_Price'].max()\n",
    "\n",
    "# B) Display the average selling price, and average asking prince\n",
    "avg1 = realEstate['Selling_Price'].mean()\n",
    "avg2 = realEstate['Asking_Price'].mean()\n",
    "\n",
    "# D) Compute the percentage of average selling price to asking price \n",
    "percentage = (avg2/avg1)\n",
    "\n",
    "\n",
    "print('\\nThe total number of realestate:', format(total, '.0f'))\n",
    "print('\\nThe highest asking price: $', format(highest, '.0f'))\n",
    "print('\\nAverage Asking Price:  $', format(avg1, '.0f'))\n",
    "print('\\nAverage Selling Price: $', format(avg2, '.0f'))\n",
    "print('\\nThe Percentage of Average Selling price to Average Asking price:', format(percentage))\n"
   ]
  },
  {
   "cell_type": "markdown",
   "metadata": {},
   "source": [
    "# Part B:  (50 points)"
   ]
  },
  {
   "cell_type": "code",
   "execution_count": 42,
   "metadata": {},
   "outputs": [
    {
     "name": "stdout",
     "output_type": "stream",
     "text": [
      "You name , id:  6447\n",
      "------------------------------\n",
      "\n"
     ]
    },
    {
     "data": {
      "text/html": [
       "<div>\n",
       "<style scoped>\n",
       "    .dataframe tbody tr th:only-of-type {\n",
       "        vertical-align: middle;\n",
       "    }\n",
       "\n",
       "    .dataframe tbody tr th {\n",
       "        vertical-align: top;\n",
       "    }\n",
       "\n",
       "    .dataframe thead th {\n",
       "        text-align: right;\n",
       "    }\n",
       "</style>\n",
       "<table border=\"1\" class=\"dataframe\">\n",
       "  <thead>\n",
       "    <tr style=\"text-align: right;\">\n",
       "      <th></th>\n",
       "      <th>Trans_No</th>\n",
       "      <th>Address</th>\n",
       "      <th>City</th>\n",
       "      <th>Selling_Agent</th>\n",
       "      <th>Asking_Price</th>\n",
       "      <th>Selling_Price</th>\n",
       "      <th>Listing_Date</th>\n",
       "      <th>Sale_Date</th>\n",
       "    </tr>\n",
       "  </thead>\n",
       "  <tbody>\n",
       "    <tr>\n",
       "      <th>47</th>\n",
       "      <td>48</td>\n",
       "      <td>81 Island Drive South</td>\n",
       "      <td>Alpine</td>\n",
       "      <td>Bethune</td>\n",
       "      <td>147800</td>\n",
       "      <td>150000</td>\n",
       "      <td>5/22/2018</td>\n",
       "      <td>6/16/2018</td>\n",
       "    </tr>\n",
       "    <tr>\n",
       "      <th>64</th>\n",
       "      <td>65</td>\n",
       "      <td>520 E Spring Street</td>\n",
       "      <td>Alpine</td>\n",
       "      <td>Minkus</td>\n",
       "      <td>189900</td>\n",
       "      <td>186102</td>\n",
       "      <td>6/6/2018</td>\n",
       "      <td>7/26/2018</td>\n",
       "    </tr>\n",
       "    <tr>\n",
       "      <th>8</th>\n",
       "      <td>9</td>\n",
       "      <td>1370 Pinellas Road</td>\n",
       "      <td>Alpine</td>\n",
       "      <td>Lugo</td>\n",
       "      <td>219000</td>\n",
       "      <td>215000</td>\n",
       "      <td>4/8/2018</td>\n",
       "      <td>6/2/2018</td>\n",
       "    </tr>\n",
       "    <tr>\n",
       "      <th>49</th>\n",
       "      <td>50</td>\n",
       "      <td>605 Reservoir Drive</td>\n",
       "      <td>Alpine</td>\n",
       "      <td>Reuter</td>\n",
       "      <td>310000</td>\n",
       "      <td>291400</td>\n",
       "      <td>5/22/2018</td>\n",
       "      <td>6/29/2018</td>\n",
       "    </tr>\n",
       "    <tr>\n",
       "      <th>...</th>\n",
       "      <td>...</td>\n",
       "      <td>...</td>\n",
       "      <td>...</td>\n",
       "      <td>...</td>\n",
       "      <td>...</td>\n",
       "      <td>...</td>\n",
       "      <td>...</td>\n",
       "      <td>...</td>\n",
       "    </tr>\n",
       "    <tr>\n",
       "      <th>60</th>\n",
       "      <td>61</td>\n",
       "      <td>30 Kent Road</td>\n",
       "      <td>Lehi</td>\n",
       "      <td>Bethune</td>\n",
       "      <td>259900</td>\n",
       "      <td>246905</td>\n",
       "      <td>6/2/2018</td>\n",
       "      <td>9/2/2018</td>\n",
       "    </tr>\n",
       "    <tr>\n",
       "      <th>6</th>\n",
       "      <td>7</td>\n",
       "      <td>618 West Cedar Drive</td>\n",
       "      <td>Lehi</td>\n",
       "      <td>Lugo</td>\n",
       "      <td>300000</td>\n",
       "      <td>290000</td>\n",
       "      <td>4/3/2018</td>\n",
       "      <td>6/1/2018</td>\n",
       "    </tr>\n",
       "    <tr>\n",
       "      <th>20</th>\n",
       "      <td>21</td>\n",
       "      <td>1900 Glenview Road</td>\n",
       "      <td>Lehi</td>\n",
       "      <td>Hernandez</td>\n",
       "      <td>325000</td>\n",
       "      <td>302250</td>\n",
       "      <td>4/28/2018</td>\n",
       "      <td>6/1/2018</td>\n",
       "    </tr>\n",
       "    <tr>\n",
       "      <th>38</th>\n",
       "      <td>39</td>\n",
       "      <td>2448 Woodacres Road</td>\n",
       "      <td>Lehi</td>\n",
       "      <td>Hernandez</td>\n",
       "      <td>450000</td>\n",
       "      <td>382500</td>\n",
       "      <td>5/5/2018</td>\n",
       "      <td>6/16/2018</td>\n",
       "    </tr>\n",
       "  </tbody>\n",
       "</table>\n",
       "<p>81 rows × 8 columns</p>\n",
       "</div>"
      ],
      "text/plain": [
       "    Trans_No                Address    City Selling_Agent  Asking_Price  \\\n",
       "47        48  81 Island Drive South  Alpine       Bethune        147800   \n",
       "64        65    520 E Spring Street  Alpine        Minkus        189900   \n",
       "8          9     1370 Pinellas Road  Alpine          Lugo        219000   \n",
       "49        50    605 Reservoir Drive  Alpine        Reuter        310000   \n",
       "..       ...                    ...     ...           ...           ...   \n",
       "60        61           30 Kent Road    Lehi       Bethune        259900   \n",
       "6          7   618 West Cedar Drive    Lehi          Lugo        300000   \n",
       "20        21     1900 Glenview Road    Lehi     Hernandez        325000   \n",
       "38        39    2448 Woodacres Road    Lehi     Hernandez        450000   \n",
       "\n",
       "    Selling_Price Listing_Date  Sale_Date  \n",
       "47         150000    5/22/2018  6/16/2018  \n",
       "64         186102     6/6/2018  7/26/2018  \n",
       "8          215000     4/8/2018   6/2/2018  \n",
       "49         291400    5/22/2018  6/29/2018  \n",
       "..            ...          ...        ...  \n",
       "60         246905     6/2/2018   9/2/2018  \n",
       "6          290000     4/3/2018   6/1/2018  \n",
       "20         302250    4/28/2018   6/1/2018  \n",
       "38         382500     5/5/2018  6/16/2018  \n",
       "\n",
       "[81 rows x 8 columns]"
      ]
     },
     "execution_count": 42,
     "metadata": {},
     "output_type": "execute_result"
    }
   ],
   "source": [
    "number = random.randint(0,10000)\n",
    "print(\"Joanna Luchowska, ID: 21507, \", number)\n",
    "print('------------------------------\\n')\n",
    "\n",
    "\n",
    "\n",
    "# Problem 1. ( 8 pts)\n",
    "# Sorting the realestate data by city and Asking price in ascending oreder\n",
    "\n",
    "\n",
    "\n"
   ]
  },
  {
   "cell_type": "code",
   "execution_count": 43,
   "metadata": {},
   "outputs": [
    {
     "name": "stdout",
     "output_type": "stream",
     "text": [
      "You name , id:  7256\n",
      "------------------------------\n",
      "\n"
     ]
    },
    {
     "data": {
      "text/html": [
       "<div>\n",
       "<style scoped>\n",
       "    .dataframe tbody tr th:only-of-type {\n",
       "        vertical-align: middle;\n",
       "    }\n",
       "\n",
       "    .dataframe tbody tr th {\n",
       "        vertical-align: top;\n",
       "    }\n",
       "\n",
       "    .dataframe thead th {\n",
       "        text-align: right;\n",
       "    }\n",
       "</style>\n",
       "<table border=\"1\" class=\"dataframe\">\n",
       "  <thead>\n",
       "    <tr style=\"text-align: right;\">\n",
       "      <th></th>\n",
       "      <th>Trans_No</th>\n",
       "      <th>Address</th>\n",
       "      <th>City</th>\n",
       "      <th>Selling_Agent</th>\n",
       "      <th>Asking_Price</th>\n",
       "      <th>Selling_Price</th>\n",
       "      <th>Listing_Date</th>\n",
       "      <th>Sale_Date</th>\n",
       "    </tr>\n",
       "  </thead>\n",
       "  <tbody>\n",
       "    <tr>\n",
       "      <th>12</th>\n",
       "      <td>13</td>\n",
       "      <td>10995 SW 88 Court</td>\n",
       "      <td>Lehi</td>\n",
       "      <td>Goodrich</td>\n",
       "      <td>110000</td>\n",
       "      <td>106000</td>\n",
       "      <td>4/12/2018</td>\n",
       "      <td>7/3/2018</td>\n",
       "    </tr>\n",
       "    <tr>\n",
       "      <th>9</th>\n",
       "      <td>10</td>\n",
       "      <td>1971 Glenview Road</td>\n",
       "      <td>Lehi</td>\n",
       "      <td>Minkus</td>\n",
       "      <td>165000</td>\n",
       "      <td>156750</td>\n",
       "      <td>4/12/2018</td>\n",
       "      <td>6/12/2018</td>\n",
       "    </tr>\n",
       "    <tr>\n",
       "      <th>75</th>\n",
       "      <td>76</td>\n",
       "      <td>103 Jasper Drive</td>\n",
       "      <td>Lehi</td>\n",
       "      <td>Bethune</td>\n",
       "      <td>165900</td>\n",
       "      <td>159264</td>\n",
       "      <td>6/29/2018</td>\n",
       "      <td>9/6/2018</td>\n",
       "    </tr>\n",
       "  </tbody>\n",
       "</table>\n",
       "</div>"
      ],
      "text/plain": [
       "    Trans_No             Address  City Selling_Agent  Asking_Price  \\\n",
       "12        13   10995 SW 88 Court  Lehi      Goodrich        110000   \n",
       "9         10  1971 Glenview Road  Lehi        Minkus        165000   \n",
       "75        76    103 Jasper Drive  Lehi       Bethune        165900   \n",
       "\n",
       "    Selling_Price Listing_Date  Sale_Date  \n",
       "12         106000    4/12/2018   7/3/2018  \n",
       "9          156750    4/12/2018  6/12/2018  \n",
       "75         159264    6/29/2018   9/6/2018  "
      ]
     },
     "execution_count": 43,
     "metadata": {},
     "output_type": "execute_result"
    }
   ],
   "source": [
    "number = random.randint(0,10000)\n",
    "print(\"Joanna Luchowska, ID: 21507, \", number)\n",
    "print('------------------------------\\n')\n",
    "\n",
    "\n",
    "\n",
    "# Problem 2. ( 8 pts)\n",
    "# List three lowest asking price realestate sold in City Lehi\n",
    "\n",
    "\n",
    "\n",
    "\n",
    "\n"
   ]
  },
  {
   "cell_type": "code",
   "execution_count": 44,
   "metadata": {},
   "outputs": [
    {
     "name": "stdout",
     "output_type": "stream",
     "text": [
      "You name , id:  6526\n",
      "------------------------------\n",
      "\n",
      "Average Selling Price by Agent Goodrich is:  $ 344992.86\n",
      "Average Selling Price by all agents is:  $ 354040.86\n",
      "The average selling price from agent Goodrich is\n",
      "below the average selling price from all gent\n"
     ]
    }
   ],
   "source": [
    "number = random.randint(0,10000)\n",
    "print(\"Joanna Luchowska, ID: 21507, \", number)\n",
    "print('------------------------------\\n')\n",
    "\n",
    "\n",
    "#  Problem 3. ( 10 pts)\n",
    "\n",
    "#  Show the average selling price of real estate sold by agent Goodrich\n",
    "#  Is its average selling price above or below the average selling price of all realstates?\n",
    "\n",
    "\n",
    "\n",
    "\n",
    "\n",
    "\n",
    "print('Average Selling Price by Agent Goodrich is:  $' )\n",
    "print('Average Selling Price by all agents is:  $' )\n",
    "\n",
    "print('The average selling price from agent Goodrich is')\n"
   ]
  },
  {
   "cell_type": "code",
   "execution_count": 45,
   "metadata": {},
   "outputs": [
    {
     "name": "stdout",
     "output_type": "stream",
     "text": [
      "You name , id:  6931\n",
      "------------------------------\n",
      "City\n",
      "Lehi              239690.909091\n",
      "Eagle Mountain    368652.000000\n",
      "American Fork     382106.750000\n",
      "Cedar Hills       418458.333333\n",
      "Alpine            532219.285714\n",
      "Name: Asking_Price, dtype: float64\n"
     ]
    },
    {
     "data": {
      "text/plain": [
       "<matplotlib.axes._subplots.AxesSubplot at 0x17c12431cc0>"
      ]
     },
     "execution_count": 45,
     "metadata": {},
     "output_type": "execute_result"
    },
    {
     "data": {
      "image/png": "[encoded data removed]",
      "text/plain": [
       "<Figure size 720x576 with 1 Axes>"
      ]
     },
     "metadata": {
      "needs_background": "light"
     },
     "output_type": "display_data"
    }
   ],
   "source": [
    "number = random.randint(0,10000)\n",
    "print(\"Joanna Luchowska, ID: 21507, \", number)\n",
    "print('------------------------------\\n')\n",
    "\n",
    "\n",
    "\n",
    "# Problem 4. ( 14 pts)\n",
    "# Display and plot the average Asking Price in each city in ascending ording. \n",
    "\n",
    "res = price.head(10)\n",
    "res\n",
    "\n",
    "\n",
    "res = price.head(10)\n",
    "print(res.index)\n",
    "print(res.values)\n",
    "\n",
    "res.plot(kind='bar', title='Price in each city in ascending ording')\n"
   ]
  },
  {
   "cell_type": "code",
   "execution_count": 46,
   "metadata": {},
   "outputs": [
    {
     "name": "stdout",
     "output_type": "stream",
     "text": [
      "Bethune      7\n",
      "Carey       12\n",
      "Goodrich    14\n",
      "Hen          2\n",
      "            ..\n",
      "Merkin       6\n",
      "Minkus       9\n",
      "Pijuan       7\n",
      "Reuter       6\n",
      "Name: Selling_Agent, Length: 10, dtype: int64\n"
     ]
    },
    {
     "data": {
      "text/plain": [
       "<matplotlib.axes._subplots.AxesSubplot at 0x17c125a50f0>"
      ]
     },
     "execution_count": 46,
     "metadata": {},
     "output_type": "execute_result"
    },
    {
     "data": {
      "image/png": "[encoded data removed]",
      "text/plain": [
       "<Figure size 720x576 with 1 Axes>"
      ]
     },
     "metadata": {
      "needs_background": "light"
     },
     "output_type": "display_data"
    }
   ],
   "source": [
    "# Problem 5. ( 10 pt)\n",
    "# Show the real estate number of each agent,\n",
    "# and sorted by the agent name\n",
    "# And plot the result as bar chart\n",
    "\n",
    "\n",
    "res = number.head(10)\n",
    "res\n",
    "\n",
    "\n",
    "res = number.head(10)\n",
    "print(res.index)\n",
    "print(res.values)\n",
    "\n",
    "res.plot(kind='bar', title='The real estate number of each agent:')\n",
    "\n"
   ]
  }
 ],
 "metadata": {
  "kernelspec": {
   "display_name": "Python 3",
   "language": "python",
   "name": "python3"
  },
  "language_info": {
   "codemirror_mode": {
    "name": "ipython",
    "version": 3
   },
   "file_extension": ".py",
   "mimetype": "text/x-python",
   "name": "python",
   "nbconvert_exporter": "python",
   "pygments_lexer": "ipython3",
   "version": "3.8.3"
  }
 },
 "nbformat": 4,
 "nbformat_minor": 2
}
