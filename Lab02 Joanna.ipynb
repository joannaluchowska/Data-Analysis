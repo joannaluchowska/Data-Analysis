{
 "cells": [
  {
   "cell_type": "markdown",
   "metadata": {},
   "source": [
    "# CI280 Lab02 – List\n",
    "Upload your answer to GitHub\n",
    "Email the link to: jzhang@eastwest.edu\n",
    "Name: _________________\n"
   ]
  },
  {
   "cell_type": "markdown",
   "metadata": {},
   "source": [
    "# A. Show the output: ( 10 pts)"
   ]
  },
  {
   "cell_type": "code",
   "execution_count": 1,
   "metadata": {},
   "outputs": [
    {
     "name": "stdout",
     "output_type": "stream",
     "text": [
      "[50, 20, 10, 80, 10]\n",
      "10\n"
     ]
    }
   ],
   "source": [
    "# 1) (2 pts)\n",
    "\n",
    "numbers = [50,20, 10, 80, 10]\n",
    "print (numbers)\n",
    "print (numbers[2])"
   ]
  },
  {
   "cell_type": "code",
   "execution_count": 4,
   "metadata": {},
   "outputs": [
    {
     "name": "stdout",
     "output_type": "stream",
     "text": [
      "max = 80\n",
      "3\n"
     ]
    }
   ],
   "source": [
    "max_value = max(numbers)\n",
    "max_index = numbers.index(max_value)\n",
    "print('max =' ,max_value )\n",
    "print( max_index)"
   ]
  },
  {
   "cell_type": "code",
   "execution_count": 6,
   "metadata": {},
   "outputs": [
    {
     "name": "stdout",
     "output_type": "stream",
     "text": [
      "min = 10\n",
      "2\n"
     ]
    }
   ],
   "source": [
    "min_value = min(numbers)\n",
    "min_index = numbers.index(min_value)\n",
    "print('min =' ,min_value )\n",
    "print( min_index)"
   ]
  },
  {
   "cell_type": "code",
   "execution_count": 7,
   "metadata": {},
   "outputs": [
    {
     "name": "stdout",
     "output_type": "stream",
     "text": [
      "lenght = 5\n",
      "Element = 10\n"
     ]
    }
   ],
   "source": [
    "print ('lenght =' ,len (numbers))\n",
    "print ('Element =',numbers[len(numbers)-1])"
   ]
  },
  {
   "cell_type": "code",
   "execution_count": 8,
   "metadata": {},
   "outputs": [
    {
     "name": "stdout",
     "output_type": "stream",
     "text": [
      "['Steven', 'Will', 'Alicia']\n"
     ]
    }
   ],
   "source": [
    "# 2) (2 pts)\n",
    "names= ['Steven', 'Will', 'Alicia']\n",
    "print (names)"
   ]
  },
  {
   "cell_type": "code",
   "execution_count": 9,
   "metadata": {},
   "outputs": [
    {
     "name": "stdout",
     "output_type": "stream",
     "text": [
      "--\n",
      "Steven\n",
      "Will\n",
      "Alicia\n"
     ]
    }
   ],
   "source": [
    "print('--')\n",
    "for name in names:\n",
    "    print(name)"
   ]
  },
  {
   "cell_type": "code",
   "execution_count": 10,
   "metadata": {},
   "outputs": [
    {
     "name": "stdout",
     "output_type": "stream",
     "text": [
      "--\n",
      "Alicia\n"
     ]
    }
   ],
   "source": [
    "print('--')\n",
    "index = 2\n",
    "while index < len(names):\n",
    "    print(names[index])\n",
    "    index += 1"
   ]
  },
  {
   "cell_type": "code",
   "execution_count": 11,
   "metadata": {},
   "outputs": [
    {
     "name": "stdout",
     "output_type": "stream",
     "text": [
      "[0, 5, 10, 15]\n"
     ]
    }
   ],
   "source": [
    "# 3) ( 2pts)\n",
    "num1 = list(range (0, 20, 5))\n",
    "print(num1)"
   ]
  },
  {
   "cell_type": "code",
   "execution_count": 12,
   "metadata": {},
   "outputs": [
    {
     "name": "stdout",
     "output_type": "stream",
     "text": [
      "[0, 5, 10, 15, 0, 5, 10, 15, 0, 5, 10, 15]\n"
     ]
    }
   ],
   "source": [
    "num2 = num1 * 3\n",
    "print(num2)"
   ]
  },
  {
   "cell_type": "code",
   "execution_count": 13,
   "metadata": {},
   "outputs": [
    {
     "name": "stdout",
     "output_type": "stream",
     "text": [
      "[0, 15, 30, 45]\n"
     ]
    }
   ],
   "source": [
    "index = 0\n",
    "while index < len(num1):\n",
    "    num1[index]= num1[index]*3\n",
    "    index += 1\n",
    "print(num1)"
   ]
  },
  {
   "cell_type": "code",
   "execution_count": 14,
   "metadata": {},
   "outputs": [
    {
     "name": "stdout",
     "output_type": "stream",
     "text": [
      "90\n",
      "22.5\n"
     ]
    }
   ],
   "source": [
    "print (sum(num1))\n",
    "print (sum(num1)/len(num1))"
   ]
  },
  {
   "cell_type": "code",
   "execution_count": 15,
   "metadata": {},
   "outputs": [
    {
     "name": "stdout",
     "output_type": "stream",
     "text": [
      "[0, 10, 20, 30, 40, 50, 60, 70, 80, 90, 100]\n"
     ]
    }
   ],
   "source": [
    "# 4) List Slicing (2 pts)\n",
    "\n",
    "numbers = list(range(0,101,10))\n",
    "print(numbers)"
   ]
  },
  {
   "cell_type": "code",
   "execution_count": 16,
   "metadata": {},
   "outputs": [
    {
     "name": "stdout",
     "output_type": "stream",
     "text": [
      "[0, 10, 20, 30, 40]\n",
      "[20, 30, 40]\n",
      "[70, 80, 90, 100]\n",
      "[80, 90, 100]\n"
     ]
    }
   ],
   "source": [
    "print(numbers[:5])\n",
    "print(numbers[2:5])\n",
    "print(numbers[7:])\n",
    "print(numbers[-3:])"
   ]
  },
  {
   "cell_type": "code",
   "execution_count": 17,
   "metadata": {},
   "outputs": [
    {
     "name": "stdout",
     "output_type": "stream",
     "text": [
      "['Chicago', 'Paris']\n"
     ]
    }
   ],
   "source": [
    "# 5) Commonlu used method (2 pts)\n",
    "\n",
    "cities=['Chicago', 'Paris']\n",
    "print(cities)"
   ]
  },
  {
   "cell_type": "code",
   "execution_count": 18,
   "metadata": {},
   "outputs": [
    {
     "name": "stdout",
     "output_type": "stream",
     "text": [
      "1\n"
     ]
    }
   ],
   "source": [
    "city_index = cities.index ('Paris')\n",
    "print(city_index)"
   ]
  },
  {
   "cell_type": "code",
   "execution_count": 19,
   "metadata": {},
   "outputs": [
    {
     "name": "stdout",
     "output_type": "stream",
     "text": [
      "['Chicago', 'New York', 'Paris']\n"
     ]
    }
   ],
   "source": [
    "cities.insert(1, 'New York')\n",
    "print(cities)"
   ]
  },
  {
   "cell_type": "code",
   "execution_count": 20,
   "metadata": {},
   "outputs": [
    {
     "name": "stdout",
     "output_type": "stream",
     "text": [
      "['Paris', 'New York', 'Chicago']\n"
     ]
    }
   ],
   "source": [
    "cities.reverse()\n",
    "print(cities)"
   ]
  },
  {
   "cell_type": "code",
   "execution_count": 21,
   "metadata": {},
   "outputs": [
    {
     "name": "stdout",
     "output_type": "stream",
     "text": [
      "['Chicago', 'New York', 'Paris']\n"
     ]
    }
   ],
   "source": [
    "cities.sort()\n",
    "print(cities)"
   ]
  },
  {
   "cell_type": "code",
   "execution_count": 22,
   "metadata": {},
   "outputs": [
    {
     "name": "stdout",
     "output_type": "stream",
     "text": [
      "['Chicago', 'Paris']\n"
     ]
    }
   ],
   "source": [
    "cities.remove('New York')\n",
    "print(cities)"
   ]
  },
  {
   "cell_type": "markdown",
   "metadata": {},
   "source": [
    "# B. Write a program. (10 pts)"
   ]
  },
  {
   "cell_type": "markdown",
   "metadata": {},
   "source": [
    "#The amounts daily sales of one week is stored in a list. \n",
    "1) Write a program that asks the user to enter a store’s sales for each day of the week. \n",
    "2) Display the sales for each week day. \n",
    "3) Display Sales summary: total sales, average sales, highest and lowest sales. (4 pts)\n"
   ]
  },
  {
   "cell_type": "code",
   "execution_count": null,
   "metadata": {},
   "outputs": [],
   "source": [
    "# Variables\n",
    "total_sales = 0.0\n",
    "DAYS = 7\n",
    "\n",
    "daily_sales = [ 0.0]*DAYS\n",
    "days_of_week = ['Sunday', 'Monday', 'Tuesday', 'Wednesday', 'Thursday', 'Friday', ' Saturday']\n",
    "\n",
    "for i in range(7):\n",
    "    daily_sales[i] = float(input('Enter the sale for' + days_of_week[i] + ':'))\n",
    "   \n",
    "print('Weekly Sales')\n",
    "print('--------------')\n",
    "\n",
    "for index in range(7):\n",
    "    print(days_of_week[index], ':$', format(daily_sales[index], ',.2f'))\n",
    "   \n",
    "for number in daily_sales:\n",
    "    total_sales += number\n",
    "   \n",
    "highest = max(daily_sales)\n",
    "max_index = daily_sales.index(highest)\n",
    "\n",
    "lowest = min(daily_sales)\n",
    "min_index = daily_sales.index(lowest)\n",
    "\n",
    "avg_sales = sum(daily_sales)/ len(daily_sales)\n",
    "\n",
    "print('\\n Weekly Sales Summary')\n",
    "print('----------------------------')\n",
    "print('Total sales : $', format(total_sales, ',.2f'))\n",
    "print('Average sales: $', format(avg_sales, ',.2f'))\n",
    "print('The highest sales is in', days_of_week[max_index], ': $', format(highest, ',.2f'))\n",
    "print('The Lowest Sales is in', days_of_week[min_index], ' :$', format(lowest, ',.2f'))"
   ]
  }
 ],
 "metadata": {
  "kernelspec": {
   "display_name": "Python 3",
   "language": "python",
   "name": "python3"
  },
  "language_info": {
   "codemirror_mode": {
    "name": "ipython",
    "version": 3
   },
   "file_extension": ".py",
   "mimetype": "text/x-python",
   "name": "python",
   "nbconvert_exporter": "python",
   "pygments_lexer": "ipython3",
   "version": "3.7.5"
  }
 },
 "nbformat": 4,
 "nbformat_minor": 2
}
